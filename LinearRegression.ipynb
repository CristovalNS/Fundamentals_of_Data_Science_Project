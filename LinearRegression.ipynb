{
 "cells": [
  {
   "cell_type": "code",
   "execution_count": 1,
   "id": "fd0d31ff-49cc-487b-8b67-13dc6f78d9fa",
   "metadata": {},
   "outputs": [],
   "source": [
    "import pandas as pd\n",
    "import numpy as np\n",
    "from sklearn.model_selection import train_test_split\n",
    "from sklearn.linear_model import LinearRegression\n",
    "from sklearn.metrics import mean_squared_error\n",
    "from sklearn.preprocessing import LabelEncoder\n",
    "import matplotlib.pyplot as plt\n",
    "import time"
   ]
  },
  {
   "cell_type": "code",
   "execution_count": 2,
   "id": "df64bd78-f37e-478f-b8cf-9d8781511b88",
   "metadata": {},
   "outputs": [],
   "source": [
    "# Load the data\n",
    "df = pd.read_csv(\"new_unicorn_data_updated.csv\")"
   ]
  },
  {
   "cell_type": "code",
   "execution_count": 3,
   "id": "978ff41d-388a-4f18-965a-1d15ea54ae9f",
   "metadata": {},
   "outputs": [
    {
     "data": {
      "text/html": [
       "<div>\n",
       "<style scoped>\n",
       "    .dataframe tbody tr th:only-of-type {\n",
       "        vertical-align: middle;\n",
       "    }\n",
       "\n",
       "    .dataframe tbody tr th {\n",
       "        vertical-align: top;\n",
       "    }\n",
       "\n",
       "    .dataframe thead th {\n",
       "        text-align: right;\n",
       "    }\n",
       "</style>\n",
       "<table border=\"1\" class=\"dataframe\">\n",
       "  <thead>\n",
       "    <tr style=\"text-align: right;\">\n",
       "      <th></th>\n",
       "      <th>Company</th>\n",
       "      <th>Date Joined</th>\n",
       "      <th>Industry</th>\n",
       "      <th>Country</th>\n",
       "      <th>City</th>\n",
       "      <th>Continent</th>\n",
       "      <th>Year Founded</th>\n",
       "      <th>Funding</th>\n",
       "      <th>Funding_Numeric ($B)</th>\n",
       "      <th>Valuation (March) ($B)</th>\n",
       "      <th>Select Investors (March)</th>\n",
       "      <th>Valuation (November) ($B)</th>\n",
       "      <th>Select Investors (November)</th>\n",
       "      <th>Years to Unicorn</th>\n",
       "      <th>Most Recent Valuation</th>\n",
       "    </tr>\n",
       "  </thead>\n",
       "  <tbody>\n",
       "    <tr>\n",
       "      <th>0</th>\n",
       "      <td>SpaceX</td>\n",
       "      <td>2012-12-01</td>\n",
       "      <td>Other</td>\n",
       "      <td>United States</td>\n",
       "      <td>Hawthorne</td>\n",
       "      <td>North America</td>\n",
       "      <td>2002</td>\n",
       "      <td>$7B</td>\n",
       "      <td>7.000</td>\n",
       "      <td>100</td>\n",
       "      <td>Founders Fund, Draper Fisher Jurvetson, Rothen...</td>\n",
       "      <td>127.0</td>\n",
       "      <td>Founders Fund, Draper Fisher Jurvetson, Rothen...</td>\n",
       "      <td>10</td>\n",
       "      <td>127.0</td>\n",
       "    </tr>\n",
       "    <tr>\n",
       "      <th>1</th>\n",
       "      <td>SHEIN</td>\n",
       "      <td>2018-07-03</td>\n",
       "      <td>E-commerce And Direct-to-consumer</td>\n",
       "      <td>China</td>\n",
       "      <td>Shenzhen</td>\n",
       "      <td>Asia</td>\n",
       "      <td>2008</td>\n",
       "      <td>$2B</td>\n",
       "      <td>2.000</td>\n",
       "      <td>100</td>\n",
       "      <td>Tiger Global Management, Sequoia Capital China...</td>\n",
       "      <td>100.0</td>\n",
       "      <td>Tiger Global Management, Sequoia Capital China...</td>\n",
       "      <td>10</td>\n",
       "      <td>100.0</td>\n",
       "    </tr>\n",
       "    <tr>\n",
       "      <th>2</th>\n",
       "      <td>Stripe</td>\n",
       "      <td>2014-01-23</td>\n",
       "      <td>Fintech</td>\n",
       "      <td>United States</td>\n",
       "      <td>San Francisco</td>\n",
       "      <td>North America</td>\n",
       "      <td>2010</td>\n",
       "      <td>$2B</td>\n",
       "      <td>2.000</td>\n",
       "      <td>95</td>\n",
       "      <td>Khosla Ventures, LowercaseCapital, capitalG</td>\n",
       "      <td>95.0</td>\n",
       "      <td>Khosla Ventures, LowercaseCapital, capitalG</td>\n",
       "      <td>4</td>\n",
       "      <td>95.0</td>\n",
       "    </tr>\n",
       "    <tr>\n",
       "      <th>3</th>\n",
       "      <td>Klarna</td>\n",
       "      <td>2011-12-12</td>\n",
       "      <td>Fintech</td>\n",
       "      <td>Sweden</td>\n",
       "      <td>Stockholm</td>\n",
       "      <td>Europe</td>\n",
       "      <td>2005</td>\n",
       "      <td>$4B</td>\n",
       "      <td>4.000</td>\n",
       "      <td>46</td>\n",
       "      <td>Institutional Venture Partners, Sequoia Capita...</td>\n",
       "      <td>6.7</td>\n",
       "      <td>Institutional Venture Partners, Sequoia Capita...</td>\n",
       "      <td>6</td>\n",
       "      <td>6.7</td>\n",
       "    </tr>\n",
       "    <tr>\n",
       "      <th>4</th>\n",
       "      <td>Canva</td>\n",
       "      <td>2018-01-08</td>\n",
       "      <td>Internet Software And Services</td>\n",
       "      <td>Australia</td>\n",
       "      <td>Surry Hills</td>\n",
       "      <td>Oceania</td>\n",
       "      <td>2012</td>\n",
       "      <td>$572M</td>\n",
       "      <td>0.572</td>\n",
       "      <td>40</td>\n",
       "      <td>Sequoia Capital China, Blackbird Ventures, Mat...</td>\n",
       "      <td>40.0</td>\n",
       "      <td>Sequoia Capital China, Blackbird Ventures, Mat...</td>\n",
       "      <td>6</td>\n",
       "      <td>40.0</td>\n",
       "    </tr>\n",
       "  </tbody>\n",
       "</table>\n",
       "</div>"
      ],
      "text/plain": [
       "  Company Date Joined                           Industry        Country  \\\n",
       "0  SpaceX  2012-12-01                              Other  United States   \n",
       "1   SHEIN  2018-07-03  E-commerce And Direct-to-consumer          China   \n",
       "2  Stripe  2014-01-23                            Fintech  United States   \n",
       "3  Klarna  2011-12-12                            Fintech         Sweden   \n",
       "4   Canva  2018-01-08     Internet Software And Services      Australia   \n",
       "\n",
       "            City      Continent  Year Founded Funding  Funding_Numeric ($B)  \\\n",
       "0      Hawthorne  North America          2002     $7B                 7.000   \n",
       "1       Shenzhen           Asia          2008     $2B                 2.000   \n",
       "2  San Francisco  North America          2010     $2B                 2.000   \n",
       "3      Stockholm         Europe          2005     $4B                 4.000   \n",
       "4    Surry Hills        Oceania          2012   $572M                 0.572   \n",
       "\n",
       "   Valuation (March) ($B)                           Select Investors (March)  \\\n",
       "0                     100  Founders Fund, Draper Fisher Jurvetson, Rothen...   \n",
       "1                     100  Tiger Global Management, Sequoia Capital China...   \n",
       "2                      95        Khosla Ventures, LowercaseCapital, capitalG   \n",
       "3                      46  Institutional Venture Partners, Sequoia Capita...   \n",
       "4                      40  Sequoia Capital China, Blackbird Ventures, Mat...   \n",
       "\n",
       "   Valuation (November) ($B)  \\\n",
       "0                      127.0   \n",
       "1                      100.0   \n",
       "2                       95.0   \n",
       "3                        6.7   \n",
       "4                       40.0   \n",
       "\n",
       "                         Select Investors (November)  Years to Unicorn  \\\n",
       "0  Founders Fund, Draper Fisher Jurvetson, Rothen...                10   \n",
       "1  Tiger Global Management, Sequoia Capital China...                10   \n",
       "2        Khosla Ventures, LowercaseCapital, capitalG                 4   \n",
       "3  Institutional Venture Partners, Sequoia Capita...                 6   \n",
       "4  Sequoia Capital China, Blackbird Ventures, Mat...                 6   \n",
       "\n",
       "   Most Recent Valuation  \n",
       "0                  127.0  \n",
       "1                  100.0  \n",
       "2                   95.0  \n",
       "3                    6.7  \n",
       "4                   40.0  "
      ]
     },
     "execution_count": 3,
     "metadata": {},
     "output_type": "execute_result"
    }
   ],
   "source": [
    "df.head()"
   ]
  },
  {
   "cell_type": "code",
   "execution_count": 4,
   "id": "ce1b88b0-733b-41d0-8b59-2b25614a21f3",
   "metadata": {},
   "outputs": [],
   "source": [
    "# Fix negative values\n",
    "\n",
    "df['Years to Unicorn'] = df['Years to Unicorn'].replace(-3, 1)\n",
    "\n",
    "df['Years to Unicorn'] = df['Years to Unicorn'].replace(0, 1)\n"
   ]
  },
  {
   "cell_type": "code",
   "execution_count": 5,
   "id": "02f25b9b-00a6-4615-ae80-1aa2a2ddaaec",
   "metadata": {},
   "outputs": [
    {
     "name": "stdout",
     "output_type": "stream",
     "text": [
      "Encoded_Industry Mapping:\n",
      "0 = Artificial Intelligence\n",
      "1 = Auto And Transportation\n",
      "2 = Consumer And Retail\n",
      "3 = Cybersecurity\n",
      "4 = Data Management And Analytics\n",
      "5 = E-commerce And Direct-to-consumer\n",
      "6 = Edtech\n",
      "7 = Fintech\n",
      "8 = Hardware\n",
      "9 = Health\n",
      "10 = Internet Software And Services\n",
      "11 = Mobile And Telecommunications\n",
      "12 = Other\n",
      "13 = Supply Chain, Logistics, And Delivery\n",
      "14 = Travel\n",
      "\n",
      "Encoded_Country Mapping:\n",
      "0 = Argentina\n",
      "1 = Australia\n",
      "2 = Austria\n",
      "3 = Bahamas\n",
      "4 = Belgium\n",
      "5 = Bermuda\n",
      "6 = Brazil\n",
      "7 = Canada\n",
      "8 = Chile\n",
      "9 = China\n",
      "10 = Colombia\n",
      "11 = Croatia\n",
      "12 = Denmark\n",
      "13 = Estonia\n",
      "14 = Finland\n",
      "15 = France\n",
      "16 = Germany\n",
      "17 = Hong Kong\n",
      "18 = India\n",
      "19 = Indonesia\n",
      "20 = Ireland\n",
      "21 = Israel\n",
      "22 = Italy\n",
      "23 = Japan\n",
      "24 = Lithuania\n",
      "25 = Luxembourg\n",
      "26 = Malaysia\n",
      "27 = Mexico\n",
      "28 = Netherlands\n",
      "29 = Nigeria\n",
      "30 = Norway\n",
      "31 = Philippines\n",
      "32 = Senegal\n",
      "33 = Singapore\n",
      "34 = South Africa\n",
      "35 = South Korea\n",
      "36 = Spain\n",
      "37 = Sweden\n",
      "38 = Switzerland\n",
      "39 = Thailand\n",
      "40 = Turkey\n",
      "41 = United Arab Emirates\n",
      "42 = United Kingdom\n",
      "43 = United States\n",
      "44 = Vietnam\n"
     ]
    }
   ],
   "source": [
    "# Encode 'Industry'\n",
    "industry_le = LabelEncoder()\n",
    "df['Encoded_Industry'] = industry_le.fit_transform(df['Industry'])\n",
    "\n",
    "# Encode 'Country'\n",
    "country_le = LabelEncoder()\n",
    "df['Encoded_Country'] = country_le.fit_transform(df['Country'])\n",
    "\n",
    "# Print the mapping dictionaries for 'Industry' and 'Country'\n",
    "industry_mapping_dict = dict(zip(df['Encoded_Industry'].unique(), industry_le.inverse_transform(df['Encoded_Industry'].unique())))\n",
    "sorted_industry_mapping_dict = sorted(industry_mapping_dict.items(), key=lambda x: x[0])\n",
    "\n",
    "country_mapping_dict = dict(zip(df['Encoded_Country'].unique(), country_le.inverse_transform(df['Encoded_Country'].unique())))\n",
    "sorted_country_mapping_dict = sorted(country_mapping_dict.items(), key=lambda x: x[0])\n",
    "\n",
    "print(\"Encoded_Industry Mapping:\")\n",
    "for key, value in sorted_industry_mapping_dict:\n",
    "    print(f\"{key} = {value}\")\n",
    "\n",
    "print(\"\\nEncoded_Country Mapping:\")\n",
    "for key, value in sorted_country_mapping_dict:\n",
    "    print(f\"{key} = {value}\")"
   ]
  },
  {
   "cell_type": "code",
   "execution_count": 6,
   "id": "fc44bd26-740c-487e-bd6c-1feab06b5222",
   "metadata": {},
   "outputs": [],
   "source": [
    "# CompanyAge\n",
    "df[\"CompanyAge\"] = 2023 - df[\"Year Founded\"]"
   ]
  },
  {
   "cell_type": "code",
   "execution_count": 7,
   "id": "0c6db63d-0a2f-4a03-925d-47ba6f003bbe",
   "metadata": {},
   "outputs": [
    {
     "data": {
      "text/plain": [
       "0       21\n",
       "1       15\n",
       "2       13\n",
       "3       18\n",
       "4       11\n",
       "        ..\n",
       "1034    11\n",
       "1035     8\n",
       "1036     5\n",
       "1037    18\n",
       "1038     9\n",
       "Name: CompanyAge, Length: 1039, dtype: int64"
      ]
     },
     "execution_count": 7,
     "metadata": {},
     "output_type": "execute_result"
    }
   ],
   "source": [
    "df[\"CompanyAge\"]"
   ]
  },
  {
   "cell_type": "code",
   "execution_count": 8,
   "id": "e620928d-1fc2-43c4-92a6-47b7e5a3daf8",
   "metadata": {},
   "outputs": [
    {
     "data": {
      "text/html": [
       "<div>\n",
       "<style scoped>\n",
       "    .dataframe tbody tr th:only-of-type {\n",
       "        vertical-align: middle;\n",
       "    }\n",
       "\n",
       "    .dataframe tbody tr th {\n",
       "        vertical-align: top;\n",
       "    }\n",
       "\n",
       "    .dataframe thead th {\n",
       "        text-align: right;\n",
       "    }\n",
       "</style>\n",
       "<table border=\"1\" class=\"dataframe\">\n",
       "  <thead>\n",
       "    <tr style=\"text-align: right;\">\n",
       "      <th></th>\n",
       "      <th>Company</th>\n",
       "      <th>Date Joined</th>\n",
       "      <th>Industry</th>\n",
       "      <th>Country</th>\n",
       "      <th>City</th>\n",
       "      <th>Continent</th>\n",
       "      <th>Year Founded</th>\n",
       "      <th>Funding</th>\n",
       "      <th>Funding_Numeric ($B)</th>\n",
       "      <th>Valuation (March) ($B)</th>\n",
       "      <th>Select Investors (March)</th>\n",
       "      <th>Valuation (November) ($B)</th>\n",
       "      <th>Select Investors (November)</th>\n",
       "      <th>Years to Unicorn</th>\n",
       "      <th>Most Recent Valuation</th>\n",
       "      <th>Encoded_Industry</th>\n",
       "      <th>Encoded_Country</th>\n",
       "      <th>CompanyAge</th>\n",
       "    </tr>\n",
       "  </thead>\n",
       "  <tbody>\n",
       "    <tr>\n",
       "      <th>0</th>\n",
       "      <td>SpaceX</td>\n",
       "      <td>2012-12-01</td>\n",
       "      <td>Other</td>\n",
       "      <td>United States</td>\n",
       "      <td>Hawthorne</td>\n",
       "      <td>North America</td>\n",
       "      <td>2002</td>\n",
       "      <td>$7B</td>\n",
       "      <td>7.000</td>\n",
       "      <td>100</td>\n",
       "      <td>Founders Fund, Draper Fisher Jurvetson, Rothen...</td>\n",
       "      <td>127.0</td>\n",
       "      <td>Founders Fund, Draper Fisher Jurvetson, Rothen...</td>\n",
       "      <td>10</td>\n",
       "      <td>127.0</td>\n",
       "      <td>12</td>\n",
       "      <td>43</td>\n",
       "      <td>21</td>\n",
       "    </tr>\n",
       "    <tr>\n",
       "      <th>1</th>\n",
       "      <td>SHEIN</td>\n",
       "      <td>2018-07-03</td>\n",
       "      <td>E-commerce And Direct-to-consumer</td>\n",
       "      <td>China</td>\n",
       "      <td>Shenzhen</td>\n",
       "      <td>Asia</td>\n",
       "      <td>2008</td>\n",
       "      <td>$2B</td>\n",
       "      <td>2.000</td>\n",
       "      <td>100</td>\n",
       "      <td>Tiger Global Management, Sequoia Capital China...</td>\n",
       "      <td>100.0</td>\n",
       "      <td>Tiger Global Management, Sequoia Capital China...</td>\n",
       "      <td>10</td>\n",
       "      <td>100.0</td>\n",
       "      <td>5</td>\n",
       "      <td>9</td>\n",
       "      <td>15</td>\n",
       "    </tr>\n",
       "    <tr>\n",
       "      <th>2</th>\n",
       "      <td>Stripe</td>\n",
       "      <td>2014-01-23</td>\n",
       "      <td>Fintech</td>\n",
       "      <td>United States</td>\n",
       "      <td>San Francisco</td>\n",
       "      <td>North America</td>\n",
       "      <td>2010</td>\n",
       "      <td>$2B</td>\n",
       "      <td>2.000</td>\n",
       "      <td>95</td>\n",
       "      <td>Khosla Ventures, LowercaseCapital, capitalG</td>\n",
       "      <td>95.0</td>\n",
       "      <td>Khosla Ventures, LowercaseCapital, capitalG</td>\n",
       "      <td>4</td>\n",
       "      <td>95.0</td>\n",
       "      <td>7</td>\n",
       "      <td>43</td>\n",
       "      <td>13</td>\n",
       "    </tr>\n",
       "    <tr>\n",
       "      <th>3</th>\n",
       "      <td>Klarna</td>\n",
       "      <td>2011-12-12</td>\n",
       "      <td>Fintech</td>\n",
       "      <td>Sweden</td>\n",
       "      <td>Stockholm</td>\n",
       "      <td>Europe</td>\n",
       "      <td>2005</td>\n",
       "      <td>$4B</td>\n",
       "      <td>4.000</td>\n",
       "      <td>46</td>\n",
       "      <td>Institutional Venture Partners, Sequoia Capita...</td>\n",
       "      <td>6.7</td>\n",
       "      <td>Institutional Venture Partners, Sequoia Capita...</td>\n",
       "      <td>6</td>\n",
       "      <td>6.7</td>\n",
       "      <td>7</td>\n",
       "      <td>37</td>\n",
       "      <td>18</td>\n",
       "    </tr>\n",
       "    <tr>\n",
       "      <th>4</th>\n",
       "      <td>Canva</td>\n",
       "      <td>2018-01-08</td>\n",
       "      <td>Internet Software And Services</td>\n",
       "      <td>Australia</td>\n",
       "      <td>Surry Hills</td>\n",
       "      <td>Oceania</td>\n",
       "      <td>2012</td>\n",
       "      <td>$572M</td>\n",
       "      <td>0.572</td>\n",
       "      <td>40</td>\n",
       "      <td>Sequoia Capital China, Blackbird Ventures, Mat...</td>\n",
       "      <td>40.0</td>\n",
       "      <td>Sequoia Capital China, Blackbird Ventures, Mat...</td>\n",
       "      <td>6</td>\n",
       "      <td>40.0</td>\n",
       "      <td>10</td>\n",
       "      <td>1</td>\n",
       "      <td>11</td>\n",
       "    </tr>\n",
       "  </tbody>\n",
       "</table>\n",
       "</div>"
      ],
      "text/plain": [
       "  Company Date Joined                           Industry        Country  \\\n",
       "0  SpaceX  2012-12-01                              Other  United States   \n",
       "1   SHEIN  2018-07-03  E-commerce And Direct-to-consumer          China   \n",
       "2  Stripe  2014-01-23                            Fintech  United States   \n",
       "3  Klarna  2011-12-12                            Fintech         Sweden   \n",
       "4   Canva  2018-01-08     Internet Software And Services      Australia   \n",
       "\n",
       "            City      Continent  Year Founded Funding  Funding_Numeric ($B)  \\\n",
       "0      Hawthorne  North America          2002     $7B                 7.000   \n",
       "1       Shenzhen           Asia          2008     $2B                 2.000   \n",
       "2  San Francisco  North America          2010     $2B                 2.000   \n",
       "3      Stockholm         Europe          2005     $4B                 4.000   \n",
       "4    Surry Hills        Oceania          2012   $572M                 0.572   \n",
       "\n",
       "   Valuation (March) ($B)                           Select Investors (March)  \\\n",
       "0                     100  Founders Fund, Draper Fisher Jurvetson, Rothen...   \n",
       "1                     100  Tiger Global Management, Sequoia Capital China...   \n",
       "2                      95        Khosla Ventures, LowercaseCapital, capitalG   \n",
       "3                      46  Institutional Venture Partners, Sequoia Capita...   \n",
       "4                      40  Sequoia Capital China, Blackbird Ventures, Mat...   \n",
       "\n",
       "   Valuation (November) ($B)  \\\n",
       "0                      127.0   \n",
       "1                      100.0   \n",
       "2                       95.0   \n",
       "3                        6.7   \n",
       "4                       40.0   \n",
       "\n",
       "                         Select Investors (November)  Years to Unicorn  \\\n",
       "0  Founders Fund, Draper Fisher Jurvetson, Rothen...                10   \n",
       "1  Tiger Global Management, Sequoia Capital China...                10   \n",
       "2        Khosla Ventures, LowercaseCapital, capitalG                 4   \n",
       "3  Institutional Venture Partners, Sequoia Capita...                 6   \n",
       "4  Sequoia Capital China, Blackbird Ventures, Mat...                 6   \n",
       "\n",
       "   Most Recent Valuation  Encoded_Industry  Encoded_Country  CompanyAge  \n",
       "0                  127.0                12               43          21  \n",
       "1                  100.0                 5                9          15  \n",
       "2                   95.0                 7               43          13  \n",
       "3                    6.7                 7               37          18  \n",
       "4                   40.0                10                1          11  "
      ]
     },
     "execution_count": 8,
     "metadata": {},
     "output_type": "execute_result"
    }
   ],
   "source": [
    "df.head()"
   ]
  },
  {
   "cell_type": "code",
   "execution_count": 9,
   "id": "fdc3a11f-d090-4d5d-8985-fde81b09b613",
   "metadata": {},
   "outputs": [],
   "source": [
    "# Select features\n",
    "features = ['Encoded_Industry', 'Encoded_Country', 'CompanyAge', 'Funding_Numeric ($B)']"
   ]
  },
  {
   "cell_type": "code",
   "execution_count": 10,
   "id": "19094baa-8107-437a-8b8a-5ae03bdab65c",
   "metadata": {},
   "outputs": [
    {
     "data": {
      "text/html": [
       "<div>\n",
       "<style scoped>\n",
       "    .dataframe tbody tr th:only-of-type {\n",
       "        vertical-align: middle;\n",
       "    }\n",
       "\n",
       "    .dataframe tbody tr th {\n",
       "        vertical-align: top;\n",
       "    }\n",
       "\n",
       "    .dataframe thead th {\n",
       "        text-align: right;\n",
       "    }\n",
       "</style>\n",
       "<table border=\"1\" class=\"dataframe\">\n",
       "  <thead>\n",
       "    <tr style=\"text-align: right;\">\n",
       "      <th></th>\n",
       "      <th>Encoded_Industry</th>\n",
       "      <th>Encoded_Country</th>\n",
       "      <th>CompanyAge</th>\n",
       "      <th>Funding_Numeric ($B)</th>\n",
       "    </tr>\n",
       "  </thead>\n",
       "  <tbody>\n",
       "    <tr>\n",
       "      <th>0</th>\n",
       "      <td>12</td>\n",
       "      <td>43</td>\n",
       "      <td>21</td>\n",
       "      <td>7.000</td>\n",
       "    </tr>\n",
       "    <tr>\n",
       "      <th>1</th>\n",
       "      <td>5</td>\n",
       "      <td>9</td>\n",
       "      <td>15</td>\n",
       "      <td>2.000</td>\n",
       "    </tr>\n",
       "    <tr>\n",
       "      <th>2</th>\n",
       "      <td>7</td>\n",
       "      <td>43</td>\n",
       "      <td>13</td>\n",
       "      <td>2.000</td>\n",
       "    </tr>\n",
       "    <tr>\n",
       "      <th>3</th>\n",
       "      <td>7</td>\n",
       "      <td>37</td>\n",
       "      <td>18</td>\n",
       "      <td>4.000</td>\n",
       "    </tr>\n",
       "    <tr>\n",
       "      <th>4</th>\n",
       "      <td>10</td>\n",
       "      <td>1</td>\n",
       "      <td>11</td>\n",
       "      <td>0.572</td>\n",
       "    </tr>\n",
       "    <tr>\n",
       "      <th>...</th>\n",
       "      <td>...</td>\n",
       "      <td>...</td>\n",
       "      <td>...</td>\n",
       "      <td>...</td>\n",
       "    </tr>\n",
       "    <tr>\n",
       "      <th>1034</th>\n",
       "      <td>5</td>\n",
       "      <td>9</td>\n",
       "      <td>11</td>\n",
       "      <td>0.379</td>\n",
       "    </tr>\n",
       "    <tr>\n",
       "      <th>1035</th>\n",
       "      <td>5</td>\n",
       "      <td>9</td>\n",
       "      <td>8</td>\n",
       "      <td>0.990</td>\n",
       "    </tr>\n",
       "    <tr>\n",
       "      <th>1036</th>\n",
       "      <td>2</td>\n",
       "      <td>9</td>\n",
       "      <td>5</td>\n",
       "      <td>0.080</td>\n",
       "    </tr>\n",
       "    <tr>\n",
       "      <th>1037</th>\n",
       "      <td>7</td>\n",
       "      <td>42</td>\n",
       "      <td>18</td>\n",
       "      <td>0.792</td>\n",
       "    </tr>\n",
       "    <tr>\n",
       "      <th>1038</th>\n",
       "      <td>5</td>\n",
       "      <td>43</td>\n",
       "      <td>9</td>\n",
       "      <td>0.620</td>\n",
       "    </tr>\n",
       "  </tbody>\n",
       "</table>\n",
       "<p>1039 rows × 4 columns</p>\n",
       "</div>"
      ],
      "text/plain": [
       "      Encoded_Industry  Encoded_Country  CompanyAge  Funding_Numeric ($B)\n",
       "0                   12               43          21                 7.000\n",
       "1                    5                9          15                 2.000\n",
       "2                    7               43          13                 2.000\n",
       "3                    7               37          18                 4.000\n",
       "4                   10                1          11                 0.572\n",
       "...                ...              ...         ...                   ...\n",
       "1034                 5                9          11                 0.379\n",
       "1035                 5                9           8                 0.990\n",
       "1036                 2                9           5                 0.080\n",
       "1037                 7               42          18                 0.792\n",
       "1038                 5               43           9                 0.620\n",
       "\n",
       "[1039 rows x 4 columns]"
      ]
     },
     "execution_count": 10,
     "metadata": {},
     "output_type": "execute_result"
    }
   ],
   "source": [
    "X = df[features]\n",
    "X"
   ]
  },
  {
   "cell_type": "code",
   "execution_count": 11,
   "id": "3ef095a6-0ce3-43bc-ac66-9b59541edf26",
   "metadata": {},
   "outputs": [
    {
     "data": {
      "text/plain": [
       "0       10\n",
       "1       10\n",
       "2        4\n",
       "3        6\n",
       "4        6\n",
       "        ..\n",
       "1034     5\n",
       "1035     2\n",
       "1036     3\n",
       "1037    16\n",
       "1038     6\n",
       "Name: Years to Unicorn, Length: 1039, dtype: int64"
      ]
     },
     "execution_count": 11,
     "metadata": {},
     "output_type": "execute_result"
    }
   ],
   "source": [
    "Y = df['Years to Unicorn']\n",
    "Y"
   ]
  },
  {
   "cell_type": "code",
   "execution_count": 12,
   "id": "69c28041-74b8-4290-8100-7b3de8e8d29b",
   "metadata": {},
   "outputs": [
    {
     "name": "stdout",
     "output_type": "stream",
     "text": [
      "Shape of X: (1039, 4)\n",
      "Shape of Y: (1039,)\n"
     ]
    }
   ],
   "source": [
    "# Check the dimensions of X and Y\n",
    "print(\"Shape of X:\", X.shape)\n",
    "print(\"Shape of Y:\", Y.shape)"
   ]
  },
  {
   "cell_type": "code",
   "execution_count": 13,
   "id": "5ef31786-6037-48cd-8871-3eefe096030a",
   "metadata": {},
   "outputs": [],
   "source": [
    "# Split the data into training and testing sets\n",
    "X_train, X_test, Y_train, Y_test = train_test_split(X, Y, test_size=0.2, random_state=42)"
   ]
  },
  {
   "cell_type": "code",
   "execution_count": 14,
   "id": "689af8c9-6f9f-427f-940f-098ebaa78f7c",
   "metadata": {},
   "outputs": [],
   "source": [
    "# Create and train the linear regression model\n",
    "start_time = time.time()  # Record the start time\n",
    "linear_reg = LinearRegression()\n",
    "linear_reg.fit(X_train, Y_train)\n",
    "end_time = time.time()  # Record the end time"
   ]
  },
  {
   "cell_type": "code",
   "execution_count": 15,
   "id": "3cb5cd1c-2863-48f0-9cf2-1d56e8d9ee95",
   "metadata": {},
   "outputs": [],
   "source": [
    "# Make predictions\n",
    "Y_pred = linear_reg.predict(X_test)"
   ]
  },
  {
   "cell_type": "code",
   "execution_count": 16,
   "id": "bcf413b2-e753-46b4-bdcd-49ede2532ba3",
   "metadata": {},
   "outputs": [
    {
     "name": "stdout",
     "output_type": "stream",
     "text": [
      "Training Time: 0.004090070724487305 seconds\n"
     ]
    }
   ],
   "source": [
    "# Calculate the training time\n",
    "training_time = end_time - start_time\n",
    "print(f'Training Time: {training_time} seconds')"
   ]
  },
  {
   "cell_type": "code",
   "execution_count": 17,
   "id": "51aa6c33-e33b-418f-bd7f-bd6598e98d5b",
   "metadata": {},
   "outputs": [
    {
     "name": "stdout",
     "output_type": "stream",
     "text": [
      "Mean Squared Error: 3.130221282170316\n"
     ]
    }
   ],
   "source": [
    "# Evaluate the model\n",
    "mse = mean_squared_error(Y_test, Y_pred)\n",
    "print(f'Mean Squared Error: {mse}')"
   ]
  },
  {
   "cell_type": "code",
   "execution_count": 18,
   "id": "c48328fd-d3e2-4a72-8aaf-88c33aff8d5d",
   "metadata": {},
   "outputs": [
    {
     "name": "stdout",
     "output_type": "stream",
     "text": [
      "Root Mean Squared Error: 1.7692431382289762\n"
     ]
    }
   ],
   "source": [
    "# Root Mean Squared Error\n",
    "rmse = mean_squared_error(Y_test, Y_pred)\n",
    "print(f'Root Mean Squared Error: {np.sqrt(rmse)}')"
   ]
  },
  {
   "cell_type": "code",
   "execution_count": 19,
   "id": "985e9508-63bc-447c-84dc-bb687a0e8e76",
   "metadata": {},
   "outputs": [
    {
     "data": {
      "text/plain": [
       "0.8277541430921294"
      ]
     },
     "execution_count": 19,
     "metadata": {},
     "output_type": "execute_result"
    }
   ],
   "source": [
    "from sklearn.metrics import r2_score\n",
    "r2_score_result = r2_score(Y_test, Y_pred)\n",
    "r2_score_result"
   ]
  },
  {
   "cell_type": "code",
   "execution_count": 20,
   "id": "63e873bf-5a68-4bb3-b33c-ea656381f754",
   "metadata": {},
   "outputs": [
    {
     "data": {
      "image/png": "[encoded data removed]",
      "text/plain": [
       "<Figure size 1000x600 with 1 Axes>"
      ]
     },
     "metadata": {},
     "output_type": "display_data"
    }
   ],
   "source": [
    "# Assuming Y_test and Y_pred are defined earlier in your code\n",
    "r2_score_result = r2_score(Y_test, Y_pred)\n",
    "\n",
    "# Plot the actual vs predicted values with the trend line\n",
    "plt.figure(figsize=(10, 6))\n",
    "plt.scatter(Y_test, Y_pred, label='Actual vs Predicted')\n",
    "plt.plot([Y_test.min(), Y_test.max()], [Y_test.min(), Y_test.max()], 'k--', lw=2, label='Identity Line')\n",
    "\n",
    "# Increase the font size for the title and axis labels\n",
    "plt.title('Actual vs Predicted Values with Trend Line (Linear Regression)', fontsize=20)\n",
    "plt.xlabel('Actual Values', fontsize=25)\n",
    "plt.ylabel('Predicted Values', fontsize=25)\n",
    "\n",
    "# Add a trend line (line of best fit)\n",
    "z = np.polyfit(Y_test, Y_pred, 1)\n",
    "p = np.poly1d(z)\n",
    "plt.plot(Y_test, p(Y_test), color='red', label='Trend Line')\n",
    "\n",
    "# Add R² score as text on the plot at the bottom right\n",
    "plt.text(0.95, 0.05, f'R² Score: {r2_score_result:.2f}', \n",
    "         transform=plt.gca().transAxes, fontsize=20, \n",
    "         verticalalignment='bottom', horizontalalignment='right')\n",
    "\n",
    "plt.legend()\n",
    "plt.show()"
   ]
  },
  {
   "cell_type": "code",
   "execution_count": 21,
   "id": "2231270c-c897-4b1b-abfa-dacccda3eb14",
   "metadata": {},
   "outputs": [
    {
     "data": {
      "image/png": "[encoded data removed]",
      "text/plain": [
       "<Figure size 1000x600 with 1 Axes>"
      ]
     },
     "metadata": {},
     "output_type": "display_data"
    }
   ],
   "source": [
    "# Extracting coefficients\n",
    "coefficients = linear_reg.coef_\n",
    "\n",
    "# Creating a DataFrame for better visualization\n",
    "coefficients_df = pd.DataFrame({'Feature': features, 'Coefficient': coefficients})\n",
    "\n",
    "# Sorting the DataFrame by absolute coefficient values for better visualization\n",
    "coefficients_df['Absolute_Coefficient'] = coefficients_df['Coefficient'].abs()\n",
    "coefficients_df = coefficients_df.sort_values(by='Absolute_Coefficient', ascending=False)\n",
    "\n",
    "# Plotting the coefficients\n",
    "plt.figure(figsize=(10, 6))\n",
    "plt.barh(coefficients_df['Feature'], coefficients_df['Coefficient'], color='skyblue')\n",
    "plt.xlabel('Coefficient Value')\n",
    "plt.title('Linear Regression Coefficients of Features')\n",
    "plt.show()\n"
   ]
  },
  {
   "cell_type": "code",
   "execution_count": 22,
   "id": "81ae86c9-c04f-4979-9843-97fb401ba4bf",
   "metadata": {},
   "outputs": [
    {
     "data": {
      "image/png": "[encoded data removed]",
      "text/plain": [
       "<Figure size 1000x800 with 2 Axes>"
      ]
     },
     "metadata": {},
     "output_type": "display_data"
    }
   ],
   "source": [
    "import pandas as pd\n",
    "import seaborn as sns\n",
    "import matplotlib.pyplot as plt\n",
    "\n",
    "# Assuming df is your DataFrame and it already contains the necessary columns\n",
    "features = ['Encoded_Industry', 'Encoded_Country', 'CompanyAge', 'Funding_Numeric ($B)', 'Years to Unicorn']\n",
    "correlation_matrix = df[features].corr()\n",
    "\n",
    "# Plotting the correlation matrix\n",
    "plt.figure(figsize=(10, 8))\n",
    "sns.heatmap(correlation_matrix, annot=True, cmap='coolwarm', fmt=\".2f\")\n",
    "plt.title(\"Correlation Matrix\")\n",
    "plt.savefig('correlationMatrix.png')\n",
    "plt.show()"
   ]
  },
  {
   "cell_type": "code",
   "execution_count": 23,
   "id": "435d46f1-fbbb-4b6a-a754-e481295094a8",
   "metadata": {},
   "outputs": [
    {
     "data": {
      "text/plain": [
       "array([10,  4,  6,  7,  2,  3, 27,  9, 11,  5,  1, 18,  8, 17, 12, 14, 25,\n",
       "       22, 16, 15, 19, 26, 13, 98, 20, 21, 24, 37, 28])"
      ]
     },
     "execution_count": 23,
     "metadata": {},
     "output_type": "execute_result"
    }
   ],
   "source": [
    "Y.unique()"
   ]
  },
  {
   "cell_type": "code",
   "execution_count": 24,
   "id": "a483012c-7cec-4d4b-b57d-1d23e1d52279",
   "metadata": {},
   "outputs": [
    {
     "data": {
      "text/plain": [
       "array([ 21,  15,  13,  18,  11,   8,  10,  32,   5,  12,   7,   6,  14,\n",
       "        20,   9,  25,  22,  16,  17,   4,  27,   3,  24,  19,  29, 104,\n",
       "        28,  23,   2,  44,  31,  39,  33,  30,  26])"
      ]
     },
     "execution_count": 24,
     "metadata": {},
     "output_type": "execute_result"
    }
   ],
   "source": [
    "df['CompanyAge'].unique()"
   ]
  },
  {
   "cell_type": "code",
   "execution_count": 25,
   "id": "da13e74d-e583-410c-b52c-b29c184a192e",
   "metadata": {},
   "outputs": [
    {
     "data": {
      "text/plain": [
       "array([10,  4,  6,  7,  2,  3, 27,  9, 11,  5,  1, 18,  8, 17, 12, 14, 25,\n",
       "       22, 16, 15, 19, 26, 13, 98, 20, 21, 24, 37, 28])"
      ]
     },
     "execution_count": 25,
     "metadata": {},
     "output_type": "execute_result"
    }
   ],
   "source": [
    "df['Years to Unicorn'].unique()"
   ]
  },
  {
   "cell_type": "code",
   "execution_count": 26,
   "id": "22afe7a1-2887-4d4a-90b5-165e6a1fd507",
   "metadata": {},
   "outputs": [],
   "source": [
    "# pip install statsmodels"
   ]
  },
  {
   "cell_type": "code",
   "execution_count": 27,
   "id": "d5375800-2f21-4dda-836e-0d2c784c9705",
   "metadata": {},
   "outputs": [
    {
     "data": {
      "text/html": [
       "<table class=\"simpletable\">\n",
       "<caption>OLS Regression Results</caption>\n",
       "<tr>\n",
       "  <th>Dep. Variable:</th>    <td>Years to Unicorn</td> <th>  R-squared:         </th> <td>   0.882</td>\n",
       "</tr>\n",
       "<tr>\n",
       "  <th>Model:</th>                   <td>OLS</td>       <th>  Adj. R-squared:    </th> <td>   0.882</td>\n",
       "</tr>\n",
       "<tr>\n",
       "  <th>Method:</th>             <td>Least Squares</td>  <th>  F-statistic:       </th> <td>   7777.</td>\n",
       "</tr>\n",
       "<tr>\n",
       "  <th>Date:</th>             <td>Sat, 06 Jan 2024</td> <th>  Prob (F-statistic):</th>  <td>  0.00</td> \n",
       "</tr>\n",
       "<tr>\n",
       "  <th>Time:</th>                 <td>20:58:56</td>     <th>  Log-Likelihood:    </th> <td> -2102.8</td>\n",
       "</tr>\n",
       "<tr>\n",
       "  <th>No. Observations:</th>      <td>  1039</td>      <th>  AIC:               </th> <td>   4210.</td>\n",
       "</tr>\n",
       "<tr>\n",
       "  <th>Df Residuals:</th>          <td>  1037</td>      <th>  BIC:               </th> <td>   4220.</td>\n",
       "</tr>\n",
       "<tr>\n",
       "  <th>Df Model:</th>              <td>     1</td>      <th>                     </th>     <td> </td>   \n",
       "</tr>\n",
       "<tr>\n",
       "  <th>Covariance Type:</th>      <td>nonrobust</td>    <th>                     </th>     <td> </td>   \n",
       "</tr>\n",
       "</table>\n",
       "<table class=\"simpletable\">\n",
       "<tr>\n",
       "       <td></td>         <th>coef</th>     <th>std err</th>      <th>t</th>      <th>P>|t|</th>  <th>[0.025</th>    <th>0.975]</th>  \n",
       "</tr>\n",
       "<tr>\n",
       "  <th>const</th>      <td>   -1.8319</td> <td>    0.115</td> <td>  -15.885</td> <td> 0.000</td> <td>   -2.058</td> <td>   -1.606</td>\n",
       "</tr>\n",
       "<tr>\n",
       "  <th>CompanyAge</th> <td>    0.8771</td> <td>    0.010</td> <td>   88.186</td> <td> 0.000</td> <td>    0.858</td> <td>    0.897</td>\n",
       "</tr>\n",
       "</table>\n",
       "<table class=\"simpletable\">\n",
       "<tr>\n",
       "  <th>Omnibus:</th>       <td>214.851</td> <th>  Durbin-Watson:     </th> <td>   1.778</td>\n",
       "</tr>\n",
       "<tr>\n",
       "  <th>Prob(Omnibus):</th> <td> 0.000</td>  <th>  Jarque-Bera (JB):  </th> <td> 426.996</td>\n",
       "</tr>\n",
       "<tr>\n",
       "  <th>Skew:</th>          <td>-1.193</td>  <th>  Prob(JB):          </th> <td>1.90e-93</td>\n",
       "</tr>\n",
       "<tr>\n",
       "  <th>Kurtosis:</th>      <td> 5.042</td>  <th>  Cond. No.          </th> <td>    23.6</td>\n",
       "</tr>\n",
       "</table><br/><br/>Notes:<br/>[1] Standard Errors assume that the covariance matrix of the errors is correctly specified."
      ],
      "text/latex": [
       "\\begin{center}\n",
       "\\begin{tabular}{lclc}\n",
       "\\toprule\n",
       "\\textbf{Dep. Variable:}    & Years to Unicorn & \\textbf{  R-squared:         } &     0.882   \\\\\n",
       "\\textbf{Model:}            &       OLS        & \\textbf{  Adj. R-squared:    } &     0.882   \\\\\n",
       "\\textbf{Method:}           &  Least Squares   & \\textbf{  F-statistic:       } &     7777.   \\\\\n",
       "\\textbf{Date:}             & Sat, 06 Jan 2024 & \\textbf{  Prob (F-statistic):} &     0.00    \\\\\n",
       "\\textbf{Time:}             &     20:58:56     & \\textbf{  Log-Likelihood:    } &   -2102.8   \\\\\n",
       "\\textbf{No. Observations:} &        1039      & \\textbf{  AIC:               } &     4210.   \\\\\n",
       "\\textbf{Df Residuals:}     &        1037      & \\textbf{  BIC:               } &     4220.   \\\\\n",
       "\\textbf{Df Model:}         &           1      & \\textbf{                     } &             \\\\\n",
       "\\textbf{Covariance Type:}  &    nonrobust     & \\textbf{                     } &             \\\\\n",
       "\\bottomrule\n",
       "\\end{tabular}\n",
       "\\begin{tabular}{lcccccc}\n",
       "                    & \\textbf{coef} & \\textbf{std err} & \\textbf{t} & \\textbf{P$> |$t$|$} & \\textbf{[0.025} & \\textbf{0.975]}  \\\\\n",
       "\\midrule\n",
       "\\textbf{const}      &      -1.8319  &        0.115     &   -15.885  &         0.000        &       -2.058    &       -1.606     \\\\\n",
       "\\textbf{CompanyAge} &       0.8771  &        0.010     &    88.186  &         0.000        &        0.858    &        0.897     \\\\\n",
       "\\bottomrule\n",
       "\\end{tabular}\n",
       "\\begin{tabular}{lclc}\n",
       "\\textbf{Omnibus:}       & 214.851 & \\textbf{  Durbin-Watson:     } &    1.778  \\\\\n",
       "\\textbf{Prob(Omnibus):} &   0.000 & \\textbf{  Jarque-Bera (JB):  } &  426.996  \\\\\n",
       "\\textbf{Skew:}          &  -1.193 & \\textbf{  Prob(JB):          } & 1.90e-93  \\\\\n",
       "\\textbf{Kurtosis:}      &   5.042 & \\textbf{  Cond. No.          } &     23.6  \\\\\n",
       "\\bottomrule\n",
       "\\end{tabular}\n",
       "%\\caption{OLS Regression Results}\n",
       "\\end{center}\n",
       "\n",
       "Notes: \\newline\n",
       " [1] Standard Errors assume that the covariance matrix of the errors is correctly specified."
      ],
      "text/plain": [
       "<class 'statsmodels.iolib.summary.Summary'>\n",
       "\"\"\"\n",
       "                            OLS Regression Results                            \n",
       "==============================================================================\n",
       "Dep. Variable:       Years to Unicorn   R-squared:                       0.882\n",
       "Model:                            OLS   Adj. R-squared:                  0.882\n",
       "Method:                 Least Squares   F-statistic:                     7777.\n",
       "Date:                Sat, 06 Jan 2024   Prob (F-statistic):               0.00\n",
       "Time:                        20:58:56   Log-Likelihood:                -2102.8\n",
       "No. Observations:                1039   AIC:                             4210.\n",
       "Df Residuals:                    1037   BIC:                             4220.\n",
       "Df Model:                           1                                         \n",
       "Covariance Type:            nonrobust                                         \n",
       "==============================================================================\n",
       "                 coef    std err          t      P>|t|      [0.025      0.975]\n",
       "------------------------------------------------------------------------------\n",
       "const         -1.8319      0.115    -15.885      0.000      -2.058      -1.606\n",
       "CompanyAge     0.8771      0.010     88.186      0.000       0.858       0.897\n",
       "==============================================================================\n",
       "Omnibus:                      214.851   Durbin-Watson:                   1.778\n",
       "Prob(Omnibus):                  0.000   Jarque-Bera (JB):              426.996\n",
       "Skew:                          -1.193   Prob(JB):                     1.90e-93\n",
       "Kurtosis:                       5.042   Cond. No.                         23.6\n",
       "==============================================================================\n",
       "\n",
       "Notes:\n",
       "[1] Standard Errors assume that the covariance matrix of the errors is correctly specified.\n",
       "\"\"\""
      ]
     },
     "execution_count": 27,
     "metadata": {},
     "output_type": "execute_result"
    }
   ],
   "source": [
    "import statsmodels.api as sm\n",
    "\n",
    "# Assuming 'df' is your DataFrame and you have 'CompanyAge' as an independent variable\n",
    "# and 'YearsToUnicorn' as the dependent variable\n",
    "\n",
    "# Prepare the data\n",
    "X = df['CompanyAge']  # Independent variable\n",
    "y = df['Years to Unicorn']  # Dependent variable\n",
    "\n",
    "# Add a constant to the model (the intercept)\n",
    "X = sm.add_constant(X)\n",
    "\n",
    "# Fit the model\n",
    "model = sm.OLS(y, X).fit()\n",
    "\n",
    "# Get the summary\n",
    "summary = model.summary()\n",
    "summary\n"
   ]
  },
  {
   "cell_type": "code",
   "execution_count": 28,
   "id": "c9181751-d451-4cfc-a20b-4055b4253dcf",
   "metadata": {},
   "outputs": [
    {
     "data": {
      "image/png": "[encoded data removed]",
      "text/plain": [
       "<Figure size 1000x600 with 1 Axes>"
      ]
     },
     "metadata": {},
     "output_type": "display_data"
    },
    {
     "data": {
      "text/plain": [
       "<Figure size 1000x600 with 0 Axes>"
      ]
     },
     "metadata": {},
     "output_type": "display_data"
    },
    {
     "data": {
      "image/png": "[encoded data removed]",
      "text/plain": [
       "<Figure size 640x480 with 1 Axes>"
      ]
     },
     "metadata": {},
     "output_type": "display_data"
    }
   ],
   "source": [
    "import matplotlib.pyplot as plt\n",
    "import seaborn as sns\n",
    "import statsmodels.api as sm\n",
    "\n",
    "# Fit a linear regression model and obtain slope and intercept\n",
    "X = df['CompanyAge']\n",
    "y = df['Years to Unicorn']\n",
    "X = sm.add_constant(X)  # Add a constant term for intercept\n",
    "model = sm.OLS(y, X).fit()\n",
    "slope = model.params['CompanyAge']\n",
    "intercept = model.params['const']\n",
    "\n",
    "# Calculate residuals\n",
    "residuals = df['Years to Unicorn'] - (df['CompanyAge'] * slope + intercept)\n",
    "\n",
    "# Plotting the histogram of residuals\n",
    "plt.figure(figsize=(10, 6))\n",
    "sns.histplot(residuals, kde=True)\n",
    "plt.title('Histogram of Residuals')\n",
    "plt.xlabel('Residuals')\n",
    "plt.ylabel('Frequency')\n",
    "plt.show()\n",
    "\n",
    "# Plotting the Q-Q plot\n",
    "plt.figure(figsize=(10, 6))\n",
    "sm.qqplot(residuals, line='s')  # 's' denotes standardized line\n",
    "plt.title('Q-Q Plot of Residuals')\n",
    "plt.show()\n"
   ]
  },
  {
   "cell_type": "code",
   "execution_count": 30,
   "id": "e7afc4a3-4d89-4dc7-9363-8087b3de1811",
   "metadata": {},
   "outputs": [
    {
     "data": {
      "text/plain": [
       "(0.9393306840783119, 0.9393306840783114)"
      ]
     },
     "execution_count": 30,
     "metadata": {},
     "output_type": "execute_result"
    }
   ],
   "source": [
    "from scipy.stats import pearsonr \n",
    "\n",
    "# Step 1: Calculate the means of 'CompanyAge' and 'Years to Unicorn'\n",
    "mean_company_age = df['CompanyAge'].mean()\n",
    "mean_years_to_unicorn = df['Years to Unicorn'].mean()\n",
    "\n",
    "# Step 2: Calculate the deviations from the mean for each variable\n",
    "company_age_deviations = df['CompanyAge'] - mean_company_age\n",
    "years_to_unicorn_deviations = df['Years to Unicorn'] - mean_years_to_unicorn\n",
    "\n",
    "# Step 3: Calculate the numerator\n",
    "numerator = (company_age_deviations * years_to_unicorn_deviations).sum()\n",
    "\n",
    "# Step 4: Calculate the denominator\n",
    "company_age_sq = company_age_deviations**2\n",
    "years_to_unicorn_sq = years_to_unicorn_deviations**2\n",
    "denominator = np.sqrt(company_age_sq.sum()) * np.sqrt(years_to_unicorn_sq.sum())\n",
    "\n",
    "# Step 5: Calculate the Pearson correlation coefficient\n",
    "pearson_r_manual = numerator / denominator\n",
    "\n",
    "# Get the Pearson correlation coefficient using the function for comparison\n",
    "pearson_r_function, _ = pearsonr(df['CompanyAge'], df['Years to Unicorn'])\n",
    "\n",
    "pearson_r_manual, pearson_r_function"
   ]
  },
  {
   "cell_type": "code",
   "execution_count": 31,
   "id": "7256c099-ffef-42bf-83df-c501b3600291",
   "metadata": {},
   "outputs": [
    {
     "data": {
      "text/plain": [
       "(33960.204042348414, 29611.753609239655)"
      ]
     },
     "execution_count": 31,
     "metadata": {},
     "output_type": "execute_result"
    }
   ],
   "source": [
    "# Calculate the sum of squares of the deviations for CompanyAge\n",
    "sum_squares_company_age = ((df['CompanyAge'] - mean_company_age)**2).sum()\n",
    "\n",
    "# Calculate the sum of squares of the deviations for Years to Unicorn\n",
    "sum_squares_years_to_unicorn = ((df['Years to Unicorn'] - mean_years_to_unicorn)**2).sum()\n",
    "\n",
    "# Display the calculated sum of squares\n",
    "sum_squares_company_age, sum_squares_years_to_unicorn"
   ]
  },
  {
   "cell_type": "code",
   "execution_count": 32,
   "id": "4f606c34-7581-433a-baa6-5f86cc906fbb",
   "metadata": {},
   "outputs": [
    {
     "data": {
      "text/plain": [
       "29787.61405197305"
      ]
     },
     "execution_count": 32,
     "metadata": {},
     "output_type": "execute_result"
    }
   ],
   "source": [
    "# Calculate the sum of the product of the deviations for CompanyAge and Years to Unicorn\n",
    "sum_product_deviations = (company_age_deviations * years_to_unicorn_deviations).sum()\n",
    "\n",
    "sum_product_deviations"
   ]
  },
  {
   "cell_type": "code",
   "execution_count": 33,
   "id": "5dbd67b6-0791-4228-8590-7ab811e14431",
   "metadata": {},
   "outputs": [
    {
     "data": {
      "text/plain": [
       "0.9393306840783118"
      ]
     },
     "execution_count": 33,
     "metadata": {},
     "output_type": "execute_result"
    }
   ],
   "source": [
    "# Calculate r using the provided values\n",
    "r_image = sum_product_deviations / np.sqrt(sum_squares_company_age * sum_squares_years_to_unicorn)\n",
    "r_image"
   ]
  },
  {
   "cell_type": "code",
   "execution_count": 46,
   "id": "5aa8bfcf-5d1b-44cf-9f65-4e4c7a041dd0",
   "metadata": {},
   "outputs": [
    {
     "name": "stdout",
     "output_type": "stream",
     "text": [
      "Statistics for CompanyAge:\n",
      "count    1039.000000\n",
      "mean       10.086622\n",
      "std         5.719874\n",
      "min         2.000000\n",
      "25%         7.000000\n",
      "50%         9.000000\n",
      "75%        12.000000\n",
      "max       104.000000\n",
      "IQR         5.000000\n",
      "Name: CompanyAge, dtype: float64\n",
      "\n",
      "Statistics for Years to Unicorn:\n",
      "count    1039.000000\n",
      "mean        7.015399\n",
      "std         5.341133\n",
      "min         1.000000\n",
      "25%         4.000000\n",
      "50%         6.000000\n",
      "75%         9.000000\n",
      "max        98.000000\n",
      "IQR         5.000000\n",
      "Name: Years to Unicorn, dtype: float64\n",
      "\n",
      "Pearson Correlation between CompanyAge and Years to Unicorn: 0.9393306840783114\n",
      "p-value: 0.0\n"
     ]
    }
   ],
   "source": [
    "import numpy as np\n",
    "import pandas as pd\n",
    "from scipy.stats import pearsonr\n",
    "\n",
    "# Assuming you have a DataFrame called 'df' with the 'CompanyAge' and 'Years to Unicorn' columns\n",
    "\n",
    "# Calculate statistics for 'CompanyAge' and 'Years to Unicorn'\n",
    "stats_company_age = df['CompanyAge'].describe()\n",
    "stats_years_to_unicorn = df['Years to Unicorn'].describe()\n",
    "\n",
    "# Recalculate IQR for 'CompanyAge' and 'Years to Unicorn'\n",
    "iqr_company_age = stats_company_age['75%'] - stats_company_age['25%']\n",
    "iqr_years_to_unicorn = stats_years_to_unicorn['75%'] - stats_years_to_unicorn['25%']\n",
    "\n",
    "# Compile the statistics into a DataFrame for display\n",
    "stats_df = pd.DataFrame({\n",
    "    'CompanyAge': stats_company_age,\n",
    "    'Years to Unicorn': stats_years_to_unicorn\n",
    "})\n",
    "\n",
    "# Add IQR to the DataFrame\n",
    "stats_df.loc['IQR'] = [iqr_company_age, iqr_years_to_unicorn]\n",
    "\n",
    "# Recalculate the Pearson Correlation between 'CompanyAge' and 'Years to Unicorn'\n",
    "pearson_corr_company_age, p_value = pearsonr(df['CompanyAge'], df['Years to Unicorn'])\n",
    "\n",
    "# Display the updated statistics and Pearson correlation result\n",
    "print(\"Statistics for CompanyAge:\")\n",
    "print(stats_df['CompanyAge'])\n",
    "print(\"\\nStatistics for Years to Unicorn:\")\n",
    "print(stats_df['Years to Unicorn'])\n",
    "print(\"\\nPearson Correlation between CompanyAge and Years to Unicorn:\", pearson_corr_company_age)\n",
    "print(\"p-value:\", p_value)\n"
   ]
  },
  {
   "cell_type": "code",
   "execution_count": 45,
   "id": "e4d33a86-4293-41fe-8290-bbfabfcdf431",
   "metadata": {},
   "outputs": [
    {
     "name": "stdout",
     "output_type": "stream",
     "text": [
      "Statistics for Funding_Numeric ($B):\n",
      "count    1039.000000\n",
      "mean        0.550465\n",
      "std         0.784430\n",
      "min         0.000000\n",
      "25%         0.222500\n",
      "50%         0.368000\n",
      "75%         0.599500\n",
      "max        14.000000\n",
      "IQR         0.377000\n",
      "Name: Funding_Numeric ($B), dtype: float64\n",
      "\n",
      "Statistics for Years to Unicorn:\n",
      "count    1039.000000\n",
      "mean        7.015399\n",
      "std         5.341133\n",
      "min         1.000000\n",
      "25%         4.000000\n",
      "50%         6.000000\n",
      "75%         9.000000\n",
      "max        98.000000\n",
      "IQR         5.000000\n",
      "Name: Years to Unicorn, dtype: float64\n",
      "\n",
      "Pearson Correlation between Funding_Numeric ($B) and Years to Unicorn: -0.021078950419006787\n",
      "p-value: 0.49732393913145634\n"
     ]
    }
   ],
   "source": [
    "import numpy as np\n",
    "import pandas as pd\n",
    "from scipy.stats import pearsonr\n",
    "\n",
    "# Assuming you have a DataFrame called 'df' with the 'Funding_Numeric ($B)' and 'Years to Unicorn' columns\n",
    "\n",
    "# Calculate statistics for 'Funding_Numeric ($B)' and 'Years to Unicorn'\n",
    "stats_funding_numeric = df['Funding_Numeric ($B)'].describe()\n",
    "stats_years_to_unicorn = df['Years to Unicorn'].describe()\n",
    "\n",
    "# Recalculate IQR for 'Funding_Numeric ($B)' and 'Years to Unicorn'\n",
    "iqr_funding_numeric = stats_funding_numeric['75%'] - stats_funding_numeric['25%']\n",
    "iqr_years_to_unicorn = stats_years_to_unicorn['75%'] - stats_years_to_unicorn['25%']\n",
    "\n",
    "# Compile the statistics into a DataFrame for display\n",
    "stats_df = pd.DataFrame({\n",
    "    'Funding_Numeric ($B)': stats_funding_numeric,\n",
    "    'Years to Unicorn': stats_years_to_unicorn\n",
    "})\n",
    "\n",
    "# Add IQR to the DataFrame\n",
    "stats_df.loc['IQR'] = [iqr_funding_numeric, iqr_years_to_unicorn]\n",
    "\n",
    "# Recalculate the Pearson Correlation between 'Funding_Numeric ($B)' and 'Years to Unicorn'\n",
    "pearson_corr2, p_value2 = pearsonr(df['Funding_Numeric ($B)'], df['Years to Unicorn'])\n",
    "\n",
    "# Display the updated statistics and Pearson correlation result\n",
    "print(\"Statistics for Funding_Numeric ($B):\")\n",
    "print(stats_df['Funding_Numeric ($B)'])\n",
    "print(\"\\nStatistics for Years to Unicorn:\")\n",
    "print(stats_df['Years to Unicorn'])\n",
    "print(\"\\nPearson Correlation between Funding_Numeric ($B) and Years to Unicorn:\", pearson_corr2)\n",
    "print(\"p-value:\", p_value2)\n"
   ]
  },
  {
   "cell_type": "code",
   "execution_count": 36,
   "id": "91ca97ec-5ebe-4ac4-ad54-950553e778c8",
   "metadata": {},
   "outputs": [
    {
     "name": "stdout",
     "output_type": "stream",
     "text": [
      "Statistics for Encoded_Industry:\n",
      "count    1039.000000\n",
      "mean        7.193455\n",
      "std         3.644104\n",
      "min         0.000000\n",
      "25%         5.000000\n",
      "50%         7.000000\n",
      "75%        10.000000\n",
      "max        14.000000\n",
      "IQR         5.000000\n",
      "Name: Encoded_Industry, dtype: float64\n",
      "\n",
      "Statistics for Years to Unicorn:\n",
      "count    1039.000000\n",
      "mean        7.015399\n",
      "std         5.341133\n",
      "min         1.000000\n",
      "25%         4.000000\n",
      "50%         6.000000\n",
      "75%         9.000000\n",
      "max        98.000000\n",
      "IQR         5.000000\n",
      "Name: Years to Unicorn, dtype: float64\n",
      "\n",
      "Pearson Correlation between Encoded_Industry and Years to Unicorn: 0.07770550350686013\n",
      "p-value: 0.01222797112618683\n"
     ]
    }
   ],
   "source": [
    "import numpy as np\n",
    "import pandas as pd\n",
    "from scipy.stats import pearsonr\n",
    "\n",
    "# Assuming you have a DataFrame called 'df' with the 'Encoded_Industry' and 'Years to Unicorn' columns\n",
    "\n",
    "# Calculate statistics for 'Encoded_Industry' and 'Years to Unicorn'\n",
    "stats_encoded_industry = df['Encoded_Industry'].describe()\n",
    "stats_years_to_unicorn = df['Years to Unicorn'].describe()\n",
    "\n",
    "# Recalculate IQR for 'Encoded_Industry' and 'Years to Unicorn'\n",
    "iqr_encoded_industry = stats_encoded_industry['75%'] - stats_encoded_industry['25%']\n",
    "iqr_years_to_unicorn = stats_years_to_unicorn['75%'] - stats_years_to_unicorn['25%']\n",
    "\n",
    "# Compile the statistics into a DataFrame for display\n",
    "stats_df = pd.DataFrame({\n",
    "    'Encoded_Industry': stats_encoded_industry,\n",
    "    'Years to Unicorn': stats_years_to_unicorn\n",
    "})\n",
    "\n",
    "# Add IQR to the DataFrame\n",
    "stats_df.loc['IQR'] = [iqr_encoded_industry, iqr_years_to_unicorn]\n",
    "\n",
    "# Recalculate the Pearson Correlation between 'Encoded_Industry' and 'Years to Unicorn'\n",
    "pearson_corr3, p_value3 = pearsonr(df['Encoded_Industry'], df['Years to Unicorn'])\n",
    "\n",
    "# Display the updated statistics and Pearson correlation result\n",
    "print(\"Statistics for Encoded_Industry:\")\n",
    "print(stats_df['Encoded_Industry'])\n",
    "print(\"\\nStatistics for Years to Unicorn:\")\n",
    "print(stats_df['Years to Unicorn'])\n",
    "print(\"\\nPearson Correlation between Encoded_Industry and Years to Unicorn:\", pearson_corr3)\n",
    "print(\"p-value:\", p_value3)\n"
   ]
  },
  {
   "cell_type": "code",
   "execution_count": 37,
   "id": "5c6be73c-59ec-4553-b315-fd919d345a20",
   "metadata": {},
   "outputs": [
    {
     "name": "stdout",
     "output_type": "stream",
     "text": [
      "Statistics for Encoded_Country:\n",
      "count    1039.000000\n",
      "mean       31.200192\n",
      "std        14.875539\n",
      "min         0.000000\n",
      "25%        16.000000\n",
      "50%        43.000000\n",
      "75%        43.000000\n",
      "max        44.000000\n",
      "IQR        27.000000\n",
      "Name: Encoded_Country, dtype: float64\n",
      "\n",
      "Statistics for Years to Unicorn:\n",
      "count    1039.000000\n",
      "mean        7.015399\n",
      "std         5.341133\n",
      "min         1.000000\n",
      "25%         4.000000\n",
      "50%         6.000000\n",
      "75%         9.000000\n",
      "max        98.000000\n",
      "IQR         5.000000\n",
      "Name: Years to Unicorn, dtype: float64\n",
      "\n",
      "Pearson Correlation between Encoded_Country and Years to Unicorn: 0.004568818403730642\n",
      "p-value: 0.8830589261440053\n"
     ]
    }
   ],
   "source": [
    "import numpy as np\n",
    "import pandas as pd\n",
    "from scipy.stats import pearsonr\n",
    "\n",
    "# Assuming you have a DataFrame called 'df' with the 'Encoded_Country' and 'Years to Unicorn' columns\n",
    "\n",
    "# Calculate statistics for 'Encoded_Country' and 'Years to Unicorn'\n",
    "stats_encoded_country = df['Encoded_Country'].describe()\n",
    "stats_years_to_unicorn = df['Years to Unicorn'].describe()\n",
    "\n",
    "# Recalculate IQR for 'Encoded_Country' and 'Years to Unicorn'\n",
    "iqr_encoded_country = stats_encoded_country['75%'] - stats_encoded_country['25%']\n",
    "iqr_years_to_unicorn = stats_years_to_unicorn['75%'] - stats_years_to_unicorn['25%']\n",
    "\n",
    "# Compile the statistics into a DataFrame for display\n",
    "stats_df = pd.DataFrame({\n",
    "    'Encoded_Country': stats_encoded_country,\n",
    "    'Years to Unicorn': stats_years_to_unicorn\n",
    "})\n",
    "\n",
    "# Add IQR to the DataFrame\n",
    "stats_df.loc['IQR'] = [iqr_encoded_country, iqr_years_to_unicorn]\n",
    "\n",
    "# Recalculate the Pearson Correlation between 'Encoded_Country' and 'Years to Unicorn'\n",
    "pearson_corr4, p_value4 = pearsonr(df['Encoded_Country'], df['Years to Unicorn'])\n",
    "\n",
    "# Display the updated statistics and Pearson correlation result\n",
    "print(\"Statistics for Encoded_Country:\")\n",
    "print(stats_df['Encoded_Country'])\n",
    "print(\"\\nStatistics for Years to Unicorn:\")\n",
    "print(stats_df['Years to Unicorn'])\n",
    "print(\"\\nPearson Correlation between Encoded_Country and Years to Unicorn:\", pearson_corr4)\n",
    "print(\"p-value:\", p_value4)\n"
   ]
  },
  {
   "cell_type": "code",
   "execution_count": 47,
   "id": "36245beb-a6ad-46b6-925c-0536ed3c4b36",
   "metadata": {},
   "outputs": [
    {
     "name": "stdout",
     "output_type": "stream",
     "text": [
      "Pearson Correlation between CompanyAge and Years to Unicorn: 0.9393306840783118\n",
      "Pearson Correlation between Funding_Numeric ($B) and Years to Unicorn: -0.021078950419006787\n",
      "Pearson Correlation between Encoded_Industry and Years to Unicorn: 0.07770550350686013\n",
      "Pearson Correlation between Encoded_Country and Years to Unicorn: 0.004568818403730642\n"
     ]
    }
   ],
   "source": [
    "import numpy as np\n",
    "import pandas as pd\n",
    "from scipy.stats import pearsonr\n",
    "\n",
    "# Display the p-values for both correlations\n",
    "print(\"Pearson Correlation between CompanyAge and Years to Unicorn:\", r_image)\n",
    "print(\"Pearson Correlation between Funding_Numeric ($B) and Years to Unicorn:\", pearson_corr2)\n",
    "print(\"Pearson Correlation between Encoded_Industry and Years to Unicorn:\", pearson_corr3)\n",
    "print(\"Pearson Correlation between Encoded_Country and Years to Unicorn:\", pearson_corr4)\n",
    "\n",
    "# print(\"P-Value between CompanyAge and Years to Unicorn:\", p_value)\n",
    "# print(\"P-Value between Funding_Numeric ($B) and Years to Unicorn:\", p_value2)\n",
    "# print(\"P-Value between Encoded_Industry and Years to Unicorn:\", p_value3)\n",
    "# print(\"P-Value between Encoded_Country and Years to Unicorn:\", p_value4)\n"
   ]
  }
 ],
 "metadata": {
  "kernelspec": {
   "display_name": "Python 3 (ipykernel)",
   "language": "python",
   "name": "python3"
  },
  "language_info": {
   "codemirror_mode": {
    "name": "ipython",
    "version": 3
   },
   "file_extension": ".py",
   "mimetype": "text/x-python",
   "name": "python",
   "nbconvert_exporter": "python",
   "pygments_lexer": "ipython3",
   "version": "3.10.4"
  }
 },
 "nbformat": 4,
 "nbformat_minor": 5
}
